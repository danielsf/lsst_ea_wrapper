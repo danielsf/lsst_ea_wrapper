{
 "cells": [
  {
   "cell_type": "markdown",
   "metadata": {},
   "source": [
    "<b>Connecting CatSim to SysArch</b>\n",
    "\n",
    "In order to ensure that you can connect the CatSim code to the SysArch database, you must edit/create the file `db-auth.paf` in the directory `$HOME/.lsst` on your machine.  The format and contents of the `db-auth.paf` file can be found under Step (3) of this confluence page:\n",
    "\n",
    "https://confluence.lsstcorp.org/display/SIM/Accessing+the+UW+CATSIM+Database"
   ]
  },
  {
   "cell_type": "markdown",
   "metadata": {},
   "source": [
    "<b> Setting up CatSim </b>\n",
    "\n",
    "Before running this notebook, you will need to install the LSST Simulations stack.  Follow the instructions here\n",
    "\n",
    "\n",
    "https://confluence.lsstcorp.org/display/SIM/Catalogs+and+MAF\n"
   ]
  },
  {
   "cell_type": "markdown",
   "metadata": {
    "collapsed": true
   },
   "source": [
    "<b>Exploring SysArch</b>\n",
    "\n",
    "The LSST package `sims_catalogs_generation` provides the class `DBObject` which can connect to an arbitrary database, inspect its tables and columns, and run queries on the tables.  We will use that class to explore the SysArch databse."
   ]
  },
  {
   "cell_type": "code",
   "execution_count": 2,
   "metadata": {
    "collapsed": true
   },
   "outputs": [],
   "source": [
    "from lsst.sims.catalogs.generation.db import DBObject\n",
    "dbo = DBObject(database='sysarch', host='terminal.lsst.org', port='3306',\n",
    "               driver='mysql')"
   ]
  },
  {
   "cell_type": "markdown",
   "metadata": {},
   "source": [
    "Now that we have a connection to the SysArch database, we can inspect its tables.  The following cell yields a list of all of the table names in SysArch."
   ]
  },
  {
   "cell_type": "code",
   "execution_count": 3,
   "metadata": {
    "collapsed": true
   },
   "outputs": [],
   "source": [
    "tableNameList = dbo.get_table_names()"
   ]
  },
  {
   "cell_type": "code",
   "execution_count": 4,
   "metadata": {
    "collapsed": false
   },
   "outputs": [
    {
     "name": "stdout",
     "output_type": "stream",
     "text": [
      "t_attribute\n",
      "t_attributeconstraints\n",
      "t_attributetag\n",
      "t_authors\n",
      "t_cardinality\n",
      "t_category\n",
      "t_clients\n",
      "t_complexitytypes\n",
      "t_connector\n",
      "t_connectorconstraint\n",
      "t_connectortag\n",
      "t_connectortypes\n",
      "t_constants\n",
      "t_constrainttypes\n",
      "t_datatypes\n",
      "t_diagram\n",
      "t_diagramlinks\n",
      "t_diagramobjects\n",
      "t_diagramtypes\n",
      "t_document\n",
      "t_ecf\n",
      "t_efforttypes\n",
      "t_files\n",
      "t_genopt\n",
      "t_glossary\n",
      "t_html\n",
      "t_image\n",
      "t_implement\n",
      "t_issues\n",
      "t_lists\n",
      "t_mainttypes\n",
      "t_method\n",
      "t_metrictypes\n",
      "t_object\n",
      "t_objectconstraint\n",
      "t_objecteffort\n",
      "t_objectfiles\n",
      "t_objectmetrics\n",
      "t_objectproblems\n",
      "t_objectproperties\n",
      "t_objectrequires\n",
      "t_objectresource\n",
      "t_objectrisks\n",
      "t_objectscenarios\n",
      "t_objecttests\n",
      "t_objecttrx\n",
      "t_objecttypes\n",
      "t_ocf\n",
      "t_operation\n",
      "t_operationparams\n",
      "t_operationposts\n",
      "t_operationpres\n",
      "t_operationtag\n",
      "t_package\n",
      "t_palette\n",
      "t_paletteitem\n",
      "t_phase\n",
      "t_primitives\n",
      "t_problemtypes\n",
      "t_projectroles\n",
      "t_propertytypes\n",
      "t_requiretypes\n",
      "t_resources\n",
      "t_risktypes\n",
      "t_roleconstraint\n",
      "t_rtf\n",
      "t_rtfreport\n",
      "t_rules\n",
      "t_scenariotypes\n",
      "t_script\n",
      "t_secgroup\n",
      "t_secgrouppermission\n",
      "t_seclocks\n",
      "t_secpermission\n",
      "t_secpolicies\n",
      "t_secuser\n",
      "t_secusergroup\n",
      "t_secuserpermission\n",
      "t_snapshot\n",
      "t_statustypes\n",
      "t_stereotypes\n",
      "t_taggedvalue\n",
      "t_tasks\n",
      "t_tcf\n",
      "t_template\n",
      "t_testclass\n",
      "t_testplans\n",
      "t_testtypes\n",
      "t_trxtypes\n",
      "t_umlpattern\n",
      "t_version\n",
      "t_xref\n",
      "t_xrefsystem\n",
      "t_xrefuser\n",
      "usys_system\n",
      "usysoldtables\n",
      "usysqueries\n",
      "usystables\n"
     ]
    }
   ],
   "source": [
    "for tableName in tableNameList:\n",
    "    print tableName"
   ]
  },
  {
   "cell_type": "markdown",
   "metadata": {},
   "source": [
    "We can also learn about the columns in each table.  The following produces a dict of lists.  The dict is keyed to the names of tables on SysArch.  The contents of the dict list the columns in each table."
   ]
  },
  {
   "cell_type": "code",
   "execution_count": 5,
   "metadata": {
    "collapsed": true
   },
   "outputs": [],
   "source": [
    "columnNameDict = dbo.get_column_names()"
   ]
  },
  {
   "cell_type": "code",
   "execution_count": 6,
   "metadata": {
    "collapsed": false
   },
   "outputs": [
    {
     "name": "stdout",
     "output_type": "stream",
     "text": [
      "Object_ID\n",
      "Object_Type\n",
      "Diagram_ID\n",
      "Name\n",
      "Alias\n",
      "Author\n",
      "Version\n",
      "Note\n",
      "Package_ID\n",
      "Stereotype\n",
      "NType\n",
      "Complexity\n",
      "Effort\n",
      "Style\n",
      "Backcolor\n",
      "BorderStyle\n",
      "BorderWidth\n",
      "Fontcolor\n",
      "Bordercolor\n",
      "CreatedDate\n",
      "ModifiedDate\n",
      "Status\n",
      "Abstract\n",
      "Tagged\n",
      "PDATA1\n",
      "PDATA2\n",
      "PDATA3\n",
      "PDATA4\n",
      "PDATA5\n",
      "Concurrency\n",
      "Visibility\n",
      "Persistence\n",
      "Cardinality\n",
      "GenType\n",
      "GenFile\n",
      "Header1\n",
      "Header2\n",
      "Phase\n",
      "Scope\n",
      "GenOption\n",
      "GenLinks\n",
      "Classifier\n",
      "ea_guid\n",
      "ParentID\n",
      "RunState\n",
      "Classifier_guid\n",
      "TPos\n",
      "IsRoot\n",
      "IsLeaf\n",
      "IsSpec\n",
      "IsActive\n",
      "StateFlags\n",
      "PackageFlags\n",
      "Multiplicity\n",
      "StyleEx\n",
      "ActionFlags\n",
      "EventFlags\n"
     ]
    }
   ],
   "source": [
    "for col in columnNameDict['t_object']:\n",
    "    print col"
   ]
  },
  {
   "cell_type": "markdown",
   "metadata": {},
   "source": [
    "There are obviously a large number of tables in SysArch.  We only care about four of them.\n",
    "\n",
    "\n",
    "* `t_object` -- Everything that exists as an object in SysML (every constraint, every package, every requirement, etc.) is listed in this table.  Each object has a unique `Object_ID` in addition to its name (which does not have to be unique)\n",
    "\n",
    "\n",
    "* `t_objectproperties` -- This table contains the properties, if any, associated with the objects in `t_object`.  The rows in `t_object` contain the same `Object_ID` as `t_object` so, once you have an object's ID from `t_object`, you can look up its properties in `t_objectproperties`.\n",
    "\n",
    "\n",
    "* `t_attribute` -- This table contains the attributes associated with the objects in `t_object`.  The attributes are the quantitative values associated with an object.  Again, attributes in `t_attribute` are associated with an `Object_ID`, so we can look them up once we have looked up the object in `t_object`.\n",
    "\n",
    "\n",
    "* `t_connector` -- This table lists all of the connections (e.g. 'refines', 'trace', etc.) between objects.  Each connection contains a column `Start_Object_ID` and `End_Object_ID` indicating which two objects it connects.  Furthermore, objects that 'refine' another object have a column `ParentID` in `t_object` referring to the `Object_ID` of the object the refine.  This allows us to find all of the relationships between objects.\n",
    "\n",
    "To summarize: any useful query must begin by looking for a `Name` in `t_object` and associating that with an `Object_ID` and possibly a `ParentID`.  Then, quantitative attributes must be found by searching for that same `Object_ID` in `t_objectproperties` and `t_attribute`.  Finally, relationships between objects must be found by searching the `Start_Object_ID` and `End_Object_ID` columns of `t_connector`."
   ]
  },
  {
   "cell_type": "code",
   "execution_count": 7,
   "metadata": {
    "collapsed": true
   },
   "outputs": [],
   "source": [
    "import numpy as np"
   ]
  },
  {
   "cell_type": "code",
   "execution_count": 11,
   "metadata": {
    "collapsed": true
   },
   "outputs": [],
   "source": [
    "dtype = np.dtype([('Name', str, 300), ('Object_ID', np.int),\n",
    "                  ('ParentID', np.int), ('Author', str, 100),\n",
    "                 ('Version', str, 100)])"
   ]
  },
  {
   "cell_type": "markdown",
   "metadata": {},
   "source": [
    "Let's query for all objects whose names contain 'm1' in them"
   ]
  },
  {
   "cell_type": "code",
   "execution_count": 12,
   "metadata": {
    "collapsed": true
   },
   "outputs": [],
   "source": [
    "query = \"select t.Name, t.Object_ID, t.ParentID, \" \\\n",
    "        +\"t.Author, t.Version from t_object t where t.Name like '%m1%'\""
   ]
  },
  {
   "cell_type": "code",
   "execution_count": 13,
   "metadata": {
    "collapsed": false
   },
   "outputs": [
    {
     "name": "stdout",
     "output_type": "stream",
     "text": [
      "[('M1M3 Surface Deformation', 251817, 0, 'Chuck Claver', '1.0')\n",
      " ('pM1M3', 313098, 313093, 'fdelgado', '1.0')\n",
      " ('M1M3', 313149, 313189, 'jsebag', '1.0')\n",
      " ('M1M3Dummy', 313158, 313149, 'jsebag', '1.0')\n",
      " ('M1M3Controller', 313202, 313149, 'Francisco Delgado', '1.0')\n",
      " ('M1M3Support', 313227, 313149, 'jsebag', '1.0')\n",
      " ('M1M3Thermal', 313244, 313149, 'jsebag', '1.0')\n",
      " ('M1M3Container', 313259, 313149, 'jsebag', '1.0')\n",
      " ('M1M3Cell', 313265, 313149, 'jsebag', '1.0')\n",
      " ('M1M3Mirror', 313281, 313149, 'jsebag', '1.0')\n",
      " ('M1 Prescription', 315388, 0, 'Brian Selvy', '1.0')\n",
      " ('Check Temperature in M1M3 Cell', 316765, 316726, 'Jacques Sebag', '1.0')\n",
      " ('CO2 Clean M1M3', 316795, 316742, 'Chuck Claver', '1.0')\n",
      " ('$uicmd=MenuCmd;param1=GenerateMDGTechnology;', 328283, 0, 'Brian Selvy', '1.0')\n",
      " ('$uicmd=ShowView;param1=ViewDiagramToolBox', 328294, 0, 'Brian Selvy', '1.0')\n",
      " ('Control M1M3 Temperature', 336923, 0, 'Paul Lotz', '1.0')\n",
      " ('Control M1M3 Shape', 336933, 0, 'Paul Lotz', '1.0')\n",
      " ('Control M1M3 Position', 336934, 0, 'Paul Lotz', '1.0')\n",
      " ('Wet Wash M1M3', 336952, 336995, 'Chuck Claver', '1.0')\n",
      " ('Re-Coat M1M3', 336954, 336995, 'Chuck Claver', '1.0')\n",
      " ('Configure Telescope for M1M3 servicing', 336995, 0, 'Chuck Claver', '1.0')\n",
      " ('Service M1M3 AOS and Thermal System', 337004, 336995, 'Chuck Claver', '1.0')\n",
      " ('Expand M1M3 cell uses cases', 337007, 0, 'Chuck Claver', '1.0')\n",
      " ('M1 Prescription', 371829, 371825, 'Patrick Ingraham', '1.0')\n",
      " ('Aux_Tel_M1_reqs', 371833, 371829, 'Patrick Ingraham', '1.0')\n",
      " ('m1Prescription', 385259, 385322, 'Chuck Claver', '1.0')\n",
      " ('M1 Prescription', 385322, 385303, 'Chuck Claver', '1.0')\n",
      " ('m1Prescription', 385875, 385937, 'Chuck Claver', '1.0')\n",
      " ('M1 Prescription', 385937, 385899, 'Jacques Sebag', '1.0')\n",
      " ('M1/M3 Controller', 387050, 0, 'Srini Chandrasekharan', '1.0')]\n"
     ]
    }
   ],
   "source": [
    "results = dbo.execute_arbitrary(query, dtype=dtype)\n",
    "print results"
   ]
  },
  {
   "cell_type": "markdown",
   "metadata": {},
   "source": [
    "Note that there are multiple objects named `m1Prescription`.  They have the same author and version number.  There are many degeneracies like this in the database at present.  We will need a way to break them, if we want to go forward with this interface."
   ]
  },
  {
   "cell_type": "markdown",
   "metadata": {},
   "source": [
    "<b>Custom Interface</b>\n",
    "\n",
    "I have written a small module `EADBWrapper` (contained in this repository) that contains classes specifically for interfacing with SysArch.  Classes included in this module are\n",
    "\n",
    "\n",
    "* `EADBWrapper` -- This class wraps `DBObject` with methods specifically designed to query the tables on SysArch\n",
    "\n",
    "\n",
    "* `SysMLObject` -- This class uses `EADBWrapper` to query SysArch and store all of the relevant information about an object (it's properties and attributes)\n",
    "\n",
    "\n",
    "* `SysMLObjectList` -- This class stores a list of `SysMLObject`s and scrapes the database for information about their relationships\n",
    "\n",
    "`EADBWrapper` contains a method `writeFamilyTree` which takes an object name, finds all of the object's related to it, and prints out their attributes and relationships.  We demonstrate below."
   ]
  },
  {
   "cell_type": "code",
   "execution_count": 14,
   "metadata": {
    "collapsed": true
   },
   "outputs": [],
   "source": [
    "from EADBWrapper import EADBWrapper"
   ]
  },
  {
   "cell_type": "code",
   "execution_count": 15,
   "metadata": {
    "collapsed": true
   },
   "outputs": [],
   "source": [
    "eadbo = EADBWrapper()"
   ]
  },
  {
   "cell_type": "markdown",
   "metadata": {},
   "source": [
    "Note: The cell below will fail because more than one object exists with the specified name.  We can, in this case, break the degeneracy by specifying an author."
   ]
  },
  {
   "cell_type": "code",
   "execution_count": 16,
   "metadata": {
    "collapsed": false
   },
   "outputs": [
    {
     "ename": "RuntimeError",
     "evalue": "More than one object match the name you gave. Try specifying an author or a version",
     "output_type": "error",
     "traceback": [
      "\u001b[1;31m---------------------------------------------------------------------------\u001b[0m",
      "\u001b[1;31mRuntimeError\u001b[0m                              Traceback (most recent call last)",
      "\u001b[1;32m<ipython-input-16-a7843de9b90c>\u001b[0m in \u001b[0;36m<module>\u001b[1;34m()\u001b[0m\n\u001b[1;32m----> 1\u001b[1;33m \u001b[0meadbo\u001b[0m\u001b[1;33m.\u001b[0m\u001b[0mwriteFamilyTree\u001b[0m\u001b[1;33m(\u001b[0m\u001b[1;34m'g-band Response Envelope'\u001b[0m\u001b[1;33m)\u001b[0m\u001b[1;33m\u001b[0m\u001b[0m\n\u001b[0m",
      "\u001b[1;32m/astro/users/danielsf/lsstSandBox/lsst_ea_wrapper/EADBWrapper.pyc\u001b[0m in \u001b[0;36mwriteFamilyTree\u001b[1;34m(self, name, author, version, file_handle)\u001b[0m\n\u001b[0;32m    379\u001b[0m         \u001b[0mThis\u001b[0m \u001b[0mmethod\u001b[0m \u001b[0mwrites\u001b[0m \u001b[0mits\u001b[0m \u001b[0mresults\u001b[0m \u001b[0mto\u001b[0m \u001b[0mthe\u001b[0m \u001b[0mdestination\u001b[0m \u001b[0mspecified\u001b[0m \u001b[0mby\u001b[0m \u001b[0mfile_handle\u001b[0m\u001b[1;33m\u001b[0m\u001b[0m\n\u001b[0;32m    380\u001b[0m         \"\"\"\n\u001b[1;32m--> 381\u001b[1;33m         \u001b[0mobjIdList\u001b[0m \u001b[1;33m=\u001b[0m \u001b[0mself\u001b[0m\u001b[1;33m.\u001b[0m\u001b[0mgetFamilyIDs\u001b[0m\u001b[1;33m(\u001b[0m\u001b[0mname\u001b[0m\u001b[1;33m,\u001b[0m \u001b[0mauthor\u001b[0m\u001b[1;33m=\u001b[0m\u001b[0mauthor\u001b[0m\u001b[1;33m,\u001b[0m \u001b[0mversion\u001b[0m\u001b[1;33m=\u001b[0m\u001b[0mversion\u001b[0m\u001b[1;33m)\u001b[0m\u001b[1;33m\u001b[0m\u001b[0m\n\u001b[0m\u001b[0;32m    382\u001b[0m         \u001b[0mobjList\u001b[0m \u001b[1;33m=\u001b[0m \u001b[0mSysMLObjectList\u001b[0m\u001b[1;33m(\u001b[0m\u001b[0mself\u001b[0m\u001b[1;33m,\u001b[0m \u001b[0mobjIdList\u001b[0m\u001b[1;33m)\u001b[0m\u001b[1;33m\u001b[0m\u001b[0m\n\u001b[0;32m    383\u001b[0m         \u001b[0mobjList\u001b[0m\u001b[1;33m.\u001b[0m\u001b[0mwriteFamilyTree\u001b[0m\u001b[1;33m(\u001b[0m\u001b[0mfile_handle\u001b[0m\u001b[1;33m=\u001b[0m\u001b[0mfile_handle\u001b[0m\u001b[1;33m)\u001b[0m\u001b[1;33m\u001b[0m\u001b[0m\n",
      "\u001b[1;32m/astro/users/danielsf/lsstSandBox/lsst_ea_wrapper/EADBWrapper.pyc\u001b[0m in \u001b[0;36mgetFamilyIDs\u001b[1;34m(self, name, author, version)\u001b[0m\n\u001b[0;32m    410\u001b[0m \u001b[1;33m\u001b[0m\u001b[0m\n\u001b[0;32m    411\u001b[0m         \u001b[1;32mif\u001b[0m \u001b[0mlen\u001b[0m\u001b[1;33m(\u001b[0m\u001b[0mresults\u001b[0m\u001b[1;33m)\u001b[0m\u001b[1;33m>\u001b[0m\u001b[1;36m1\u001b[0m\u001b[1;33m:\u001b[0m\u001b[1;33m\u001b[0m\u001b[0m\n\u001b[1;32m--> 412\u001b[1;33m             raise RuntimeError('More than one object match the name you gave. '\n\u001b[0m\u001b[0;32m    413\u001b[0m                                'Try specifying an author or a version')\n\u001b[0;32m    414\u001b[0m \u001b[1;33m\u001b[0m\u001b[0m\n",
      "\u001b[1;31mRuntimeError\u001b[0m: More than one object match the name you gave. Try specifying an author or a version"
     ]
    }
   ],
   "source": [
    "eadbo.writeFamilyTree('g-band Response Envelope')"
   ]
  },
  {
   "cell_type": "code",
   "execution_count": 17,
   "metadata": {
    "collapsed": false
   },
   "outputs": [
    {
     "name": "stdout",
     "output_type": "stream",
     "text": [
      "========\n",
      "Name: g-band Response Envelope\n",
      "Version: 1.0\n",
      "Author: Chuck Claver\n",
      "Property: LSSTRequirements\n",
      "Value: OSS-REQ-0241\n",
      "========\n",
      "\n",
      "========\n",
      "Name: g-InBandLimits\n",
      "Version: 1.0\n",
      "Author: Chuck Claver\n",
      "Property: isEncapsulated\n",
      "Value: None\n",
      "Values: true,false\r\n",
      "\n",
      "Relationships:\n",
      "     �refine� g-band Response Envelope\n",
      "\n",
      "Attributes:\n",
      "    ------------\n",
      "    g_InBandRed = 537.0 nm\n",
      "    The in-band red limit for the g-band filter response normalization.\n",
      "    ------------\n",
      "    g_InBAndBlue = 416.5 nm\n",
      "    The in-band blue limit for the g-band filter response normalization.\n",
      "========\n",
      "\n",
      "========\n",
      "Name: Optical Sensitivity and Performance : Filter Response\n",
      "Version: 1.0\n",
      "Author: Chuck Claver\n",
      "========\n",
      "\n",
      "========\n",
      "Name: g_lowerEnvelope\n",
      "Version: 1.0\n",
      "Author: Chuck Claver\n",
      "Property: isEncapsulated\n",
      "Value: None\n",
      "Values: true,false\r\n",
      "\n",
      "Relationships:\n",
      "     �refine� g-band Response Envelope\n",
      "\n",
      "Attributes:\n",
      "    ------------\n",
      "    g_lowerBlue(0) = 391.5 nm\n",
      "    <font color=\"#0f0f0f\">The blue side zero response wavelength of the g-band lower envelope.</font>\n",
      "    ------------\n",
      "    g_lowerRed(0.97) = 537.75 nm\n",
      "    <font color=\"#0f0f0f\">The red side 0.97% response wavelength of the g-band lower envelope.</font>\n",
      "    ------------\n",
      "    g_lowerBlue(0.97) = 415.75 nm\n",
      "    <font color=\"#0f0f0f\">The blue side 0.97% response wavelength of the g-band lower envelope.</font>\n",
      "    ------------\n",
      "    g_lowerRed(0) = 562.0 nm\n",
      "    <font color=\"#0f0f0f\">The red side zero response wavelength of the g-band lower envelope.</font>\n",
      "========\n",
      "\n",
      "========\n",
      "Name: g_upperEnvelope\n",
      "Version: 1.0\n",
      "Author: Chuck Claver\n",
      "Property: isEncapsulated\n",
      "Value: None\n",
      "Values: true,false\r\n",
      "\n",
      "Relationships:\n",
      "     �refine� g-band Response Envelope\n",
      "\n",
      "Attributes:\n",
      "    ------------\n",
      "    g_upperBlue(1.03) = 412.25 nm\n",
      "    The blue side 103% response wavelength of the g-band upper envelope.\n",
      "    ------------\n",
      "    g_upperRed(1.03) = 541.25 nm\n",
      "    The red side 103% response wavelength of the g-band upper envelope.\n",
      "    ------------\n",
      "    g_upperBlue(0) = 386.5 nm\n",
      "    The blue side zero response wavelength of the g-band upper envelope.\n",
      "    ------------\n",
      "    g_upperRed(0) = 567.0 nm\n",
      "    The red side zero response wavelength of the g-band upper envelope.\n",
      "========\n",
      "\n",
      "========\n",
      "Name: g-band not-to-exceed envelope\n",
      "Version: 1.0\n",
      "Author: Chuck Claver\n",
      "Property: LSSTRequirements\n",
      "Value: OSS-REQ-0367\n",
      "Relationships:\n",
      "    None g-band Response Envelope\n",
      "\n",
      "========\n",
      "\n",
      "========\n",
      "Name: g-band Filter Envelope\n",
      "Version: 1.0\n",
      "Author: Chuck Claver\n",
      "========\n",
      "\n",
      "========\n",
      "Name: g_minEnvelope\n",
      "Version: 1.0\n",
      "Author: Chuck Claver\n",
      "Property: isEncapsulated\n",
      "Value: None\n",
      "Values: true,false\r\n",
      "\n",
      "Relationships:\n",
      "     �refine� g-band not-to-exceed envelope\n",
      "\n",
      "Attributes:\n",
      "    ------------\n",
      "    g_minRed(0) = 559.0 nm\n",
      "    The red side zero response wavelength of the g-band minimum envelope.\n",
      "    ------------\n",
      "    g_minRed(0.97) = 537.75 nm\n",
      "    The red side 97% response wavelength of the g-band minimum envelope.\n",
      "    ------------\n",
      "    g_minBlue(0.97) = 415.75 nm\n",
      "    The blue side 97% response wavelength of the g-band minimum envelope.\n",
      "    ------------\n",
      "    g_minBlue(0) = 394.5 nm\n",
      "    The blue side zero response wavelength of the g-band minimum envelope.\n",
      "========\n",
      "\n",
      "========\n",
      "Name: g_maxEnvelope\n",
      "Version: 1.0\n",
      "Author: Chuck Claver\n",
      "Property: isEncapsulated\n",
      "Value: None\n",
      "Values: true,false\r\n",
      "\n",
      "Relationships:\n",
      "     �refine� g-band not-to-exceed envelope\n",
      "\n",
      "Attributes:\n",
      "    ------------\n",
      "    g_maxBlue(1.03) = 409.25 nm\n",
      "    The blue side 103% response wavelength of the g-band maximum envelope.\n",
      "    ------------\n",
      "    g_maxBlue(0) = 383.5 nm\n",
      "    The blue side zero response wavelength of the g-band maximum envelope.\n",
      "    ------------\n",
      "    g_maxRed(1.03) = 544.25 nm\n",
      "    The red side 103% response wavelength of the g-band maximum envelope.\n",
      "    ------------\n",
      "    g_maxRed(0) = 570.0 nm\n",
      "    The red side zero response wavelength of the g-band maximum envelope.\n",
      "========\n",
      "\n"
     ]
    }
   ],
   "source": [
    "eadbo.writeFamilyTree('g-band Response Envelope', author='Chuck Claver')"
   ]
  },
  {
   "cell_type": "markdown",
   "metadata": {},
   "source": [
    "<b>Version Control</b>\n",
    "\n",
    "Unfortunately, though the table `t_object` contains a column `Version`, it is not obvious that any useful information is actually stored in that column."
   ]
  },
  {
   "cell_type": "code",
   "execution_count": 18,
   "metadata": {
    "collapsed": false
   },
   "outputs": [
    {
     "name": "stdout",
     "output_type": "stream",
     "text": [
      "[('Science Usage and Analysis', '1.1') ('Actors', '1.1')\n",
      " ('Raw Exposure Processing', '1.1') ('Association', '1.1')\n",
      " ('DIA Source Detection and Characterization', '1.1')\n",
      " ('Alert Subscription', '1.1') ('Database Schema', '3.3.2')\n",
      " ('02C.05 Science  User Interface and Analysis Tools', '1.1')\n",
      " ('02C.03.02 Association Pipelines', '1.1')\n",
      " ('02C.03.01 Image Processing Pipeline', '1.1')\n",
      " ('02C.03.07 Difference Imaging Pipelines', '1.1')\n",
      " ('02C.04.05 Deep Detection Pipeline', '1.1')\n",
      " ('DMS Component and Deployment Model', '1.1')\n",
      " ('LSE-131: Interface between Data Management and EPO', '2.0')\n",
      " ('Level 1 Data Quality Report Definition', '1.1')]\n"
     ]
    }
   ],
   "source": [
    "dtype = np.dtype([('Name', str, 100), ('Version', str, 100)])\n",
    "query = \"select t.Name, t.Version from t_object t where t.Version!='1.0'\"\n",
    "results = dbo.execute_arbitrary(query, dtype=dtype)\n",
    "print results"
   ]
  },
  {
   "cell_type": "markdown",
   "metadata": {},
   "source": [
    "Mario has pointed out that SysML uses SVN for its version control, which may mean that the databases cannot grant us access to multiple versions of the system at once."
   ]
  },
  {
   "cell_type": "code",
   "execution_count": null,
   "metadata": {
    "collapsed": true
   },
   "outputs": [],
   "source": []
  }
 ],
 "metadata": {
  "kernelspec": {
   "display_name": "Python 2",
   "language": "python",
   "name": "python2"
  },
  "language_info": {
   "codemirror_mode": {
    "name": "ipython",
    "version": 2
   },
   "file_extension": ".py",
   "mimetype": "text/x-python",
   "name": "python",
   "nbconvert_exporter": "python",
   "pygments_lexer": "ipython2",
   "version": "2.7.9"
  }
 },
 "nbformat": 4,
 "nbformat_minor": 0
}
